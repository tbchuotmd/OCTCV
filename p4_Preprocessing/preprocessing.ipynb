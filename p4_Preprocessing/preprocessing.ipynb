{
 "cells": [
  {
   "cell_type": "markdown",
   "id": "1310e375",
   "metadata": {},
   "source": [
    "# Pre-processing"
   ]
  },
  {
   "cell_type": "markdown",
   "id": "8f62b2e6-ef26-459d-b51d-1572c81f513a",
   "metadata": {
    "jp-MarkdownHeadingCollapsed": true
   },
   "source": [
    "## Table of Contents "
   ]
  },
  {
   "cell_type": "markdown",
   "id": "8ddbff9f",
   "metadata": {},
   "source": [
    "### Goals: \n",
    "The primary goal here is to make transformations to both datasets that would potentially allow them to be merged.  As noted during EDA, there are some notable differences including:\n",
    "\n",
    "### Steps:\n",
    "  #### Dummy/Indicator Features for Categorical Variables\n",
    "  + [] Convert the target (`dx_class`) labels from `object` type to numerical/boolean for more convenient analysis\n",
    "  + [] Same for `laterality`\n",
    "  + [] The columns actually relevant to classification will be:\n",
    "    + The Target: `dx_class` \n",
    "    + Laterality: `laterality` - essentially the only tabular \"feature\"; don't expect much of a correlation with the target here, but will consider it.\n",
    "    + Set: `set` - to assess if there are statistical differences in SET 1 and SET 2 that make them ultimately \"un-mergable\" when testing them out during modeling\n",
    "    + Patient: `patient_id` - each patient may have associated confounding factors (i.e., if their PMHx includes things like myopia which can make glaucoma harder to detect); may be useful to look at depending on how the results turn out. \n",
    "  #### Standardization of Volume/Image Arrays \n",
    "  ##### Array Dimensions\n",
    "  SET 1 consists of 3D Volumes, while SET 2 consists of 2D Images\n",
    "  + [] 3D Volume slices need to be extracted that are within an equivalent plane to the B-scans\n",
    "  + [] may need to consider the index number in the B-scan images and calculate the `slice_depth` equivalent.\n",
    "  ##### Aspect Ratio\n",
    "  2D Images represent full B-Scans including a broader area around the optic nerve, while the 3D volumes are optic-nerve-head centered scans\n",
    "  + [] Crop 2D images to a W:H ratio of 1:2\n",
    "  + [] Consider shaded regions within the B-scan images themselves vs. unshaded B-scan images that are accompanied by \"cup\"/\"disc\" images (masks/graphical labels). \n",
    "  ##### Size/Scale\n",
    "  The 3D Volumes have been downscaled to 64x128x64, while the 2D Images appear to be original scale or at least much larger \n",
    "  + [] downscale 2D Images to 64w x 128h after cropping\n",
    "  ##### Color Channels\n",
    "  The volumes are all 3D Grayscale, while the images are all 2D Color\n",
    "  + [] convert 2D images to grayscale using `cv2`\n",
    "  ##### Pixel Intensities\n",
    "  + [] check pixel intensity histograms again\n",
    "  + [] normalize pixel intensities\n",
    "\n",
    "\n"
   ]
  },
  {
   "cell_type": "markdown",
   "id": "0d7ba770",
   "metadata": {},
   "source": [
    "## Import Statements"
   ]
  },
  {
   "cell_type": "code",
   "execution_count": 90,
   "id": "4b1bb725-5ed7-4cd3-bfd5-bd18bbca2534",
   "metadata": {},
   "outputs": [],
   "source": [
    "import pandas as pd\n",
    "import numpy as np\n",
    "import re"
   ]
  },
  {
   "cell_type": "code",
   "execution_count": 91,
   "id": "03f74671-eb21-4ea8-bbb8-d4e4ede91a81",
   "metadata": {},
   "outputs": [],
   "source": [
    "from warnings import filterwarnings\n",
    "filterwarnings(action='ignore')"
   ]
  },
  {
   "cell_type": "markdown",
   "id": "fb2d51d9-93c6-44d7-a012-bc4900351298",
   "metadata": {},
   "source": [
    "## Loading Metada Table "
   ]
  },
  {
   "cell_type": "code",
   "execution_count": 146,
   "id": "bedbc511-4594-4629-8bd9-4cec5c4385b8",
   "metadata": {},
   "outputs": [
    {
     "data": {
      "text/html": [
       "<div>\n",
       "<style scoped>\n",
       "    .dataframe tbody tr th:only-of-type {\n",
       "        vertical-align: middle;\n",
       "    }\n",
       "\n",
       "    .dataframe tbody tr th {\n",
       "        vertical-align: top;\n",
       "    }\n",
       "\n",
       "    .dataframe thead th {\n",
       "        text-align: right;\n",
       "    }\n",
       "</style>\n",
       "<table border=\"1\" class=\"dataframe\">\n",
       "  <thead>\n",
       "    <tr style=\"text-align: right;\">\n",
       "      <th></th>\n",
       "      <th>dx_class</th>\n",
       "      <th>patient_id</th>\n",
       "      <th>laterality</th>\n",
       "      <th>image_type</th>\n",
       "      <th>set</th>\n",
       "      <th>filepath</th>\n",
       "    </tr>\n",
       "  </thead>\n",
       "  <tbody>\n",
       "    <tr>\n",
       "      <th>0</th>\n",
       "      <td>glaucoma</td>\n",
       "      <td>001978</td>\n",
       "      <td>OS</td>\n",
       "      <td>volume</td>\n",
       "      <td>1</td>\n",
       "      <td>../datasrc/volumesOCT/POAG-001978-2012-02-08-O...</td>\n",
       "    </tr>\n",
       "    <tr>\n",
       "      <th>1</th>\n",
       "      <td>normal</td>\n",
       "      <td>002743</td>\n",
       "      <td>OS</td>\n",
       "      <td>volume</td>\n",
       "      <td>1</td>\n",
       "      <td>../datasrc/volumesOCT/Normal-002743-2009-03-26...</td>\n",
       "    </tr>\n",
       "    <tr>\n",
       "      <th>2</th>\n",
       "      <td>glaucoma</td>\n",
       "      <td>001086</td>\n",
       "      <td>OS</td>\n",
       "      <td>volume</td>\n",
       "      <td>1</td>\n",
       "      <td>../datasrc/volumesOCT/POAG-001086-2008-08-04-O...</td>\n",
       "    </tr>\n",
       "    <tr>\n",
       "      <th>3</th>\n",
       "      <td>glaucoma</td>\n",
       "      <td>000092</td>\n",
       "      <td>OS</td>\n",
       "      <td>volume</td>\n",
       "      <td>1</td>\n",
       "      <td>../datasrc/volumesOCT/POAG-000092-2010-12-14-O...</td>\n",
       "    </tr>\n",
       "    <tr>\n",
       "      <th>4</th>\n",
       "      <td>glaucoma</td>\n",
       "      <td>003223</td>\n",
       "      <td>OD</td>\n",
       "      <td>volume</td>\n",
       "      <td>1</td>\n",
       "      <td>../datasrc/volumesOCT/POAG-003223-2014-01-10-O...</td>\n",
       "    </tr>\n",
       "  </tbody>\n",
       "</table>\n",
       "</div>"
      ],
      "text/plain": [
       "   dx_class patient_id laterality image_type  set  \\\n",
       "0  glaucoma     001978         OS     volume    1   \n",
       "1    normal     002743         OS     volume    1   \n",
       "2  glaucoma     001086         OS     volume    1   \n",
       "3  glaucoma     000092         OS     volume    1   \n",
       "4  glaucoma     003223         OD     volume    1   \n",
       "\n",
       "                                            filepath  \n",
       "0  ../datasrc/volumesOCT/POAG-001978-2012-02-08-O...  \n",
       "1  ../datasrc/volumesOCT/Normal-002743-2009-03-26...  \n",
       "2  ../datasrc/volumesOCT/POAG-001086-2008-08-04-O...  \n",
       "3  ../datasrc/volumesOCT/POAG-000092-2010-12-14-O...  \n",
       "4  ../datasrc/volumesOCT/POAG-003223-2014-01-10-O...  "
      ]
     },
     "execution_count": 146,
     "metadata": {},
     "output_type": "execute_result"
    }
   ],
   "source": [
    "metadata = pd.read_csv('../datasrc/compositeOCT_metadata.csv')\n",
    "metadata.head()"
   ]
  },
  {
   "cell_type": "markdown",
   "id": "57844fc0-327e-4322-8a9f-d968a02c4b7b",
   "metadata": {},
   "source": [
    "## Dummy/Indicator Features for Categorical Variables "
   ]
  },
  {
   "cell_type": "markdown",
   "id": "a32e0ef0-9ae0-4f40-8dbc-382c3f5da883",
   "metadata": {},
   "source": [
    "Although some ML classification frameworks might be more flexible with the data types of features, will convert the columns potentially relevant to classification just in case."
   ]
  },
  {
   "cell_type": "markdown",
   "id": "fb2ca2ab-f963-450e-b16d-daae0f686fd7",
   "metadata": {},
   "source": [
    "### Target Variable: `dx_class` --> `glaucoma`"
   ]
  },
  {
   "cell_type": "code",
   "execution_count": 147,
   "id": "b2e4e7d4-2742-41df-a9f1-a040937977d8",
   "metadata": {},
   "outputs": [
    {
     "name": "stdout",
     "output_type": "stream",
     "text": [
      "{'dx_class': 'glaucoma'} \n",
      "\n",
      "dx_class      object\n",
      "glaucoma       int64\n",
      "patient_id    object\n",
      "laterality    object\n",
      "image_type    object\n",
      "set            int64\n",
      "filepath      object\n",
      "dtype: object \n",
      "\n"
     ]
    },
    {
     "data": {
      "text/html": [
       "<div>\n",
       "<style scoped>\n",
       "    .dataframe tbody tr th:only-of-type {\n",
       "        vertical-align: middle;\n",
       "    }\n",
       "\n",
       "    .dataframe tbody tr th {\n",
       "        vertical-align: top;\n",
       "    }\n",
       "\n",
       "    .dataframe thead th {\n",
       "        text-align: right;\n",
       "    }\n",
       "</style>\n",
       "<table border=\"1\" class=\"dataframe\">\n",
       "  <thead>\n",
       "    <tr style=\"text-align: right;\">\n",
       "      <th></th>\n",
       "      <th>dx_class</th>\n",
       "      <th>glaucoma</th>\n",
       "      <th>patient_id</th>\n",
       "      <th>laterality</th>\n",
       "      <th>image_type</th>\n",
       "      <th>set</th>\n",
       "      <th>filepath</th>\n",
       "    </tr>\n",
       "  </thead>\n",
       "  <tbody>\n",
       "    <tr>\n",
       "      <th>0</th>\n",
       "      <td>glaucoma</td>\n",
       "      <td>1</td>\n",
       "      <td>001978</td>\n",
       "      <td>OS</td>\n",
       "      <td>volume</td>\n",
       "      <td>1</td>\n",
       "      <td>../datasrc/volumesOCT/POAG-001978-2012-02-08-O...</td>\n",
       "    </tr>\n",
       "    <tr>\n",
       "      <th>1</th>\n",
       "      <td>normal</td>\n",
       "      <td>0</td>\n",
       "      <td>002743</td>\n",
       "      <td>OS</td>\n",
       "      <td>volume</td>\n",
       "      <td>1</td>\n",
       "      <td>../datasrc/volumesOCT/Normal-002743-2009-03-26...</td>\n",
       "    </tr>\n",
       "    <tr>\n",
       "      <th>2</th>\n",
       "      <td>glaucoma</td>\n",
       "      <td>1</td>\n",
       "      <td>001086</td>\n",
       "      <td>OS</td>\n",
       "      <td>volume</td>\n",
       "      <td>1</td>\n",
       "      <td>../datasrc/volumesOCT/POAG-001086-2008-08-04-O...</td>\n",
       "    </tr>\n",
       "    <tr>\n",
       "      <th>3</th>\n",
       "      <td>glaucoma</td>\n",
       "      <td>1</td>\n",
       "      <td>000092</td>\n",
       "      <td>OS</td>\n",
       "      <td>volume</td>\n",
       "      <td>1</td>\n",
       "      <td>../datasrc/volumesOCT/POAG-000092-2010-12-14-O...</td>\n",
       "    </tr>\n",
       "    <tr>\n",
       "      <th>4</th>\n",
       "      <td>glaucoma</td>\n",
       "      <td>1</td>\n",
       "      <td>003223</td>\n",
       "      <td>OD</td>\n",
       "      <td>volume</td>\n",
       "      <td>1</td>\n",
       "      <td>../datasrc/volumesOCT/POAG-003223-2014-01-10-O...</td>\n",
       "    </tr>\n",
       "  </tbody>\n",
       "</table>\n",
       "</div>"
      ],
      "text/plain": [
       "   dx_class  glaucoma patient_id laterality image_type  set  \\\n",
       "0  glaucoma         1     001978         OS     volume    1   \n",
       "1    normal         0     002743         OS     volume    1   \n",
       "2  glaucoma         1     001086         OS     volume    1   \n",
       "3  glaucoma         1     000092         OS     volume    1   \n",
       "4  glaucoma         1     003223         OD     volume    1   \n",
       "\n",
       "                                            filepath  \n",
       "0  ../datasrc/volumesOCT/POAG-001978-2012-02-08-O...  \n",
       "1  ../datasrc/volumesOCT/Normal-002743-2009-03-26...  \n",
       "2  ../datasrc/volumesOCT/POAG-001086-2008-08-04-O...  \n",
       "3  ../datasrc/volumesOCT/POAG-000092-2010-12-14-O...  \n",
       "4  ../datasrc/volumesOCT/POAG-003223-2014-01-10-O...  "
      ]
     },
     "execution_count": 147,
     "metadata": {},
     "output_type": "execute_result"
    }
   ],
   "source": [
    "ntarg = 'glaucoma'\n",
    "otarg = 'dx_class'\n",
    "oldcols = list(metadata.columns)\n",
    "\n",
    "if ntarg not in list(metadata.columns):\n",
    "    newcolmap = {otarg:ntarg} # Save mapping for future reference\n",
    "    new_target = pd.get_dummies(metadata[otarg], dtype='int')[ntarg] # Series for the new numerical column\n",
    "    loc = metadata.columns.get_loc(otarg) + 1 # Add 1 to place it after the original target\n",
    "    metadata.insert(loc,ntarg,new_target) # Insert the series after after `dx_class` as `glaucoma` column\n",
    "    \n",
    "print(newcolmap,'\\n')\n",
    "print(metadata.dtypes,'\\n')\n",
    "metadata.head()"
   ]
  },
  {
   "cell_type": "markdown",
   "id": "75d3e841-02d7-4849-93f1-9ceea89173b9",
   "metadata": {},
   "source": [
    "### Patient: `patient_id` - residual cleaning"
   ]
  },
  {
   "cell_type": "markdown",
   "id": "88fa21ad-cd72-48ec-b5f8-45bb03bb26e0",
   "metadata": {},
   "source": [
    "#### Attempt `object` --> `int` "
   ]
  },
  {
   "cell_type": "code",
   "execution_count": 148,
   "id": "831d4b00-9362-4130-9d13-372ba5826c6a",
   "metadata": {},
   "outputs": [
    {
     "name": "stdout",
     "output_type": "stream",
     "text": [
      "Number of Patients: 650\n"
     ]
    }
   ],
   "source": [
    "N_patients = len(metadata.patient_id.unique()); print(f\"Number of Patients: {N_patients}\")"
   ]
  },
  {
   "cell_type": "code",
   "execution_count": 149,
   "id": "642e2b78-770e-46c0-98f7-0cb3e7474d7e",
   "metadata": {},
   "outputs": [
    {
     "data": {
      "text/plain": [
       "647"
      ]
     },
     "execution_count": 149,
     "metadata": {},
     "output_type": "execute_result"
    }
   ],
   "source": [
    "# Preview N_patients if patient_id converted to int\n",
    "len(metadata.patient_id\\\n",
    "    .str.replace('P_','')\\\n",
    "    .astype('int')\\\n",
    "    .sort_values().unique())"
   ]
  },
  {
   "cell_type": "markdown",
   "id": "db8d1a96-ca8a-47dc-bf08-af70fd37c823",
   "metadata": {},
   "source": [
    "The loss of three suggests some overlap in numbering."
   ]
  },
  {
   "cell_type": "markdown",
   "id": "16cf677f-69fc-4f6e-8a20-280316afcb60",
   "metadata": {},
   "source": [
    "#### Splitting & Rejoining Original Sets "
   ]
  },
  {
   "cell_type": "code",
   "execution_count": 150,
   "id": "5542c4e3-4054-456d-8c70-1b633045ba39",
   "metadata": {},
   "outputs": [
    {
     "name": "stdout",
     "output_type": "stream",
     "text": [
      "{'dx_class': 'glaucoma', 'patient_id': 'pid_int'} \n",
      "\n",
      "dx_class      object\n",
      "glaucoma       int64\n",
      "patient_id    object\n",
      "pid_int        int64\n",
      "laterality    object\n",
      "image_type    object\n",
      "set            int64\n",
      "filepath      object\n",
      "dtype: object \n",
      "\n"
     ]
    },
    {
     "data": {
      "text/html": [
       "<div>\n",
       "<style scoped>\n",
       "    .dataframe tbody tr th:only-of-type {\n",
       "        vertical-align: middle;\n",
       "    }\n",
       "\n",
       "    .dataframe tbody tr th {\n",
       "        vertical-align: top;\n",
       "    }\n",
       "\n",
       "    .dataframe thead th {\n",
       "        text-align: right;\n",
       "    }\n",
       "</style>\n",
       "<table border=\"1\" class=\"dataframe\">\n",
       "  <thead>\n",
       "    <tr style=\"text-align: right;\">\n",
       "      <th></th>\n",
       "      <th>dx_class</th>\n",
       "      <th>glaucoma</th>\n",
       "      <th>patient_id</th>\n",
       "      <th>pid_int</th>\n",
       "      <th>laterality</th>\n",
       "      <th>image_type</th>\n",
       "      <th>set</th>\n",
       "      <th>filepath</th>\n",
       "    </tr>\n",
       "  </thead>\n",
       "  <tbody>\n",
       "    <tr>\n",
       "      <th>826</th>\n",
       "      <td>normal</td>\n",
       "      <td>0</td>\n",
       "      <td>000002</td>\n",
       "      <td>2</td>\n",
       "      <td>OD</td>\n",
       "      <td>volume</td>\n",
       "      <td>1</td>\n",
       "      <td>../datasrc/volumesOCT/Normal-000002-2009-10-28...</td>\n",
       "    </tr>\n",
       "    <tr>\n",
       "      <th>813</th>\n",
       "      <td>normal</td>\n",
       "      <td>0</td>\n",
       "      <td>000002</td>\n",
       "      <td>2</td>\n",
       "      <td>OS</td>\n",
       "      <td>volume</td>\n",
       "      <td>1</td>\n",
       "      <td>../datasrc/volumesOCT/Normal-000002-2009-10-28...</td>\n",
       "    </tr>\n",
       "    <tr>\n",
       "      <th>53</th>\n",
       "      <td>glaucoma</td>\n",
       "      <td>1</td>\n",
       "      <td>000008</td>\n",
       "      <td>8</td>\n",
       "      <td>OD</td>\n",
       "      <td>volume</td>\n",
       "      <td>1</td>\n",
       "      <td>../datasrc/volumesOCT/POAG-000008-2009-02-03-O...</td>\n",
       "    </tr>\n",
       "    <tr>\n",
       "      <th>426</th>\n",
       "      <td>glaucoma</td>\n",
       "      <td>1</td>\n",
       "      <td>000014</td>\n",
       "      <td>14</td>\n",
       "      <td>OD</td>\n",
       "      <td>volume</td>\n",
       "      <td>1</td>\n",
       "      <td>../datasrc/volumesOCT/POAG-000014-2009-11-30-O...</td>\n",
       "    </tr>\n",
       "    <tr>\n",
       "      <th>747</th>\n",
       "      <td>glaucoma</td>\n",
       "      <td>1</td>\n",
       "      <td>000014</td>\n",
       "      <td>14</td>\n",
       "      <td>OS</td>\n",
       "      <td>volume</td>\n",
       "      <td>1</td>\n",
       "      <td>../datasrc/volumesOCT/POAG-000014-2009-11-30-O...</td>\n",
       "    </tr>\n",
       "  </tbody>\n",
       "</table>\n",
       "</div>"
      ],
      "text/plain": [
       "     dx_class  glaucoma patient_id  pid_int laterality image_type  set  \\\n",
       "826    normal         0     000002        2         OD     volume    1   \n",
       "813    normal         0     000002        2         OS     volume    1   \n",
       "53   glaucoma         1     000008        8         OD     volume    1   \n",
       "426  glaucoma         1     000014       14         OD     volume    1   \n",
       "747  glaucoma         1     000014       14         OS     volume    1   \n",
       "\n",
       "                                              filepath  \n",
       "826  ../datasrc/volumesOCT/Normal-000002-2009-10-28...  \n",
       "813  ../datasrc/volumesOCT/Normal-000002-2009-10-28...  \n",
       "53   ../datasrc/volumesOCT/POAG-000008-2009-02-03-O...  \n",
       "426  ../datasrc/volumesOCT/POAG-000014-2009-11-30-O...  \n",
       "747  ../datasrc/volumesOCT/POAG-000014-2009-11-30-O...  "
      ]
     },
     "execution_count": 150,
     "metadata": {},
     "output_type": "execute_result"
    }
   ],
   "source": [
    "# Split into original sets\n",
    "idf = metadata[metadata.set == 2]\n",
    "vdf = metadata[metadata.set == 1]\n",
    "\n",
    "# Create new column for patient_id's converted to integers (pid_int) for both dataframes\n",
    "pidint = 'pid_int'\n",
    "opid = 'patient_id'\n",
    "\n",
    "if pidint not in list(metadata.columns):\n",
    "    # Append to newcolmap for later reference\n",
    "    newcolmap[opid] = pidint\n",
    "\n",
    "    # Convert patient_id's to integers in the new column (pid_int)\n",
    "    vdf[pidint] = vdf[opid].astype('int')\n",
    "    idf[pidint] = idf[opid].str.replace('P_','').astype('int') + 4000\n",
    "\n",
    "    # Re-join / concatenate\n",
    "    metadata = pd.concat([vdf,idf],axis=0)\n",
    "\n",
    "    # Re-order columns so that pid_int is next to patient_id\n",
    "    loc = metadata.columns.get_loc(opid) + 1\n",
    "    pidintSer = metadata.pop(pidint)\n",
    "    metadata.insert(loc,pidint,pidintSer)\n",
    "\n",
    "    # Sort by pid_int (i.e., numerical sort of patient_id \"by proxy\")\n",
    "    metadata = metadata.sort_values(pidint)\n",
    "    \n",
    "print(newcolmap,'\\n')\n",
    "print(metadata.dtypes,'\\n')\n",
    "metadata.head()"
   ]
  },
  {
   "cell_type": "markdown",
   "id": "fa65365c-0ce1-4055-8712-ba3e4759fb38",
   "metadata": {},
   "source": [
    "#### Re-map ordered patient_id's to proxy identification (PIN)"
   ]
  },
  {
   "cell_type": "markdown",
   "id": "6b6660de-cb72-4219-96d2-6b98c3aa7b2b",
   "metadata": {},
   "source": [
    "As the `patient_id` column reflects the original identification used in the respective research studies, there are some missing numbers (e.g., maybe representing patients later excluded from their study).  For our sake, we can keep this in order to trace it back to the original datasets/studies if needed later on, but create a new column for our own proxy identification -- we can call this `PIN` for \"Patient Identification Number\":"
   ]
  },
  {
   "cell_type": "code",
   "execution_count": 151,
   "id": "c716a40e-5dd0-4dc6-949a-62690f2f20fd",
   "metadata": {},
   "outputs": [
    {
     "data": {
      "text/plain": [
       "True"
      ]
     },
     "execution_count": 151,
     "metadata": {},
     "output_type": "execute_result"
    }
   ],
   "source": [
    "# Double check that the number of patients matches the original\n",
    "uniq_pidints = metadata.pid_int.unique()\n",
    "N_patients == len(uniq_pidints)"
   ]
  },
  {
   "cell_type": "code",
   "execution_count": 152,
   "id": "eb84eef2-79c1-43aa-89b1-70a8427453f2",
   "metadata": {},
   "outputs": [
    {
     "name": "stdout",
     "output_type": "stream",
     "text": [
      "{'dx_class': 'glaucoma', 'patient_id': 'PIN'} \n",
      "\n",
      "dx_class      object\n",
      "glaucoma       int64\n",
      "patient_id    object\n",
      "PIN           object\n",
      "laterality    object\n",
      "image_type    object\n",
      "set            int64\n",
      "filepath      object\n",
      "dtype: object \n",
      "\n"
     ]
    },
    {
     "data": {
      "text/html": [
       "<div>\n",
       "<style scoped>\n",
       "    .dataframe tbody tr th:only-of-type {\n",
       "        vertical-align: middle;\n",
       "    }\n",
       "\n",
       "    .dataframe tbody tr th {\n",
       "        vertical-align: top;\n",
       "    }\n",
       "\n",
       "    .dataframe thead th {\n",
       "        text-align: right;\n",
       "    }\n",
       "</style>\n",
       "<table border=\"1\" class=\"dataframe\">\n",
       "  <thead>\n",
       "    <tr style=\"text-align: right;\">\n",
       "      <th></th>\n",
       "      <th>dx_class</th>\n",
       "      <th>glaucoma</th>\n",
       "      <th>patient_id</th>\n",
       "      <th>PIN</th>\n",
       "      <th>laterality</th>\n",
       "      <th>image_type</th>\n",
       "      <th>set</th>\n",
       "      <th>filepath</th>\n",
       "    </tr>\n",
       "  </thead>\n",
       "  <tbody>\n",
       "    <tr>\n",
       "      <th>826</th>\n",
       "      <td>normal</td>\n",
       "      <td>0</td>\n",
       "      <td>000002</td>\n",
       "      <td>001</td>\n",
       "      <td>OD</td>\n",
       "      <td>volume</td>\n",
       "      <td>1</td>\n",
       "      <td>../datasrc/volumesOCT/Normal-000002-2009-10-28...</td>\n",
       "    </tr>\n",
       "    <tr>\n",
       "      <th>813</th>\n",
       "      <td>normal</td>\n",
       "      <td>0</td>\n",
       "      <td>000002</td>\n",
       "      <td>001</td>\n",
       "      <td>OS</td>\n",
       "      <td>volume</td>\n",
       "      <td>1</td>\n",
       "      <td>../datasrc/volumesOCT/Normal-000002-2009-10-28...</td>\n",
       "    </tr>\n",
       "    <tr>\n",
       "      <th>53</th>\n",
       "      <td>glaucoma</td>\n",
       "      <td>1</td>\n",
       "      <td>000008</td>\n",
       "      <td>002</td>\n",
       "      <td>OD</td>\n",
       "      <td>volume</td>\n",
       "      <td>1</td>\n",
       "      <td>../datasrc/volumesOCT/POAG-000008-2009-02-03-O...</td>\n",
       "    </tr>\n",
       "    <tr>\n",
       "      <th>426</th>\n",
       "      <td>glaucoma</td>\n",
       "      <td>1</td>\n",
       "      <td>000014</td>\n",
       "      <td>003</td>\n",
       "      <td>OD</td>\n",
       "      <td>volume</td>\n",
       "      <td>1</td>\n",
       "      <td>../datasrc/volumesOCT/POAG-000014-2009-11-30-O...</td>\n",
       "    </tr>\n",
       "    <tr>\n",
       "      <th>747</th>\n",
       "      <td>glaucoma</td>\n",
       "      <td>1</td>\n",
       "      <td>000014</td>\n",
       "      <td>003</td>\n",
       "      <td>OS</td>\n",
       "      <td>volume</td>\n",
       "      <td>1</td>\n",
       "      <td>../datasrc/volumesOCT/POAG-000014-2009-11-30-O...</td>\n",
       "    </tr>\n",
       "  </tbody>\n",
       "</table>\n",
       "</div>"
      ],
      "text/plain": [
       "     dx_class  glaucoma patient_id  PIN laterality image_type  set  \\\n",
       "826    normal         0     000002  001         OD     volume    1   \n",
       "813    normal         0     000002  001         OS     volume    1   \n",
       "53   glaucoma         1     000008  002         OD     volume    1   \n",
       "426  glaucoma         1     000014  003         OD     volume    1   \n",
       "747  glaucoma         1     000014  003         OS     volume    1   \n",
       "\n",
       "                                              filepath  \n",
       "826  ../datasrc/volumesOCT/Normal-000002-2009-10-28...  \n",
       "813  ../datasrc/volumesOCT/Normal-000002-2009-10-28...  \n",
       "53   ../datasrc/volumesOCT/POAG-000008-2009-02-03-O...  \n",
       "426  ../datasrc/volumesOCT/POAG-000014-2009-11-30-O...  \n",
       "747  ../datasrc/volumesOCT/POAG-000014-2009-11-30-O...  "
      ]
     },
     "execution_count": 152,
     "metadata": {},
     "output_type": "execute_result"
    }
   ],
   "source": [
    "# Dictionary comprehension to map the pid_int to a more simple ordinal numbering (basically from 1 to N_patients)\n",
    "pid2pin = {pid:f\"{i+1:03d}\" for i,pid in enumerate(uniq_pidints)}\n",
    "\n",
    "# Create new column PIN using mapping of pid_int to proxy identification (1 to N_patients)\n",
    "pin = 'PIN'\n",
    "if pin not in list(metadata.columns):\n",
    "    # Append newcolmap for future reference\n",
    "    newcolmap['patient_id']=pin\n",
    "    pinSer = metadata[pidint].apply(lambda p : pid2pin[p]) # re-map pidint to create new 'PIN' series\n",
    "\n",
    "    # Replace pid_int with the re-mapped 'PIN' series \n",
    "    loc = metadata.columns.get_loc(pidint) # get column index of pid_int\n",
    "    metadata = metadata.drop(pidint,axis=1) # drop pid_int (going to replace it)\n",
    "    metadata.insert(loc,pin,pinSer) # place re-mapped series at the original location of pid_int, and name it 'PIN'\n",
    "\n",
    "print(newcolmap,'\\n')\n",
    "print(metadata.dtypes,'\\n')\n",
    "metadata.head()"
   ]
  },
  {
   "cell_type": "markdown",
   "id": "da166cb8-501c-47d4-adab-f644bb160c50",
   "metadata": {},
   "source": [
    "### Laterality: `laterality`"
   ]
  },
  {
   "cell_type": "code",
   "execution_count": 153,
   "id": "eb4e8502-12f9-4bc0-94ae-9f5bf0e998e5",
   "metadata": {},
   "outputs": [
    {
     "name": "stdout",
     "output_type": "stream",
     "text": [
      "{'dx_class': 'glaucoma', 'patient_id': 'PIN', 'laterality': 'left_eye'} \n",
      "\n",
      "dx_class      object\n",
      "glaucoma       int64\n",
      "patient_id    object\n",
      "PIN           object\n",
      "laterality    object\n",
      "left_eye       int64\n",
      "image_type    object\n",
      "set            int64\n",
      "filepath      object\n",
      "dtype: object \n",
      "\n"
     ]
    },
    {
     "data": {
      "text/html": [
       "<div>\n",
       "<style scoped>\n",
       "    .dataframe tbody tr th:only-of-type {\n",
       "        vertical-align: middle;\n",
       "    }\n",
       "\n",
       "    .dataframe tbody tr th {\n",
       "        vertical-align: top;\n",
       "    }\n",
       "\n",
       "    .dataframe thead th {\n",
       "        text-align: right;\n",
       "    }\n",
       "</style>\n",
       "<table border=\"1\" class=\"dataframe\">\n",
       "  <thead>\n",
       "    <tr style=\"text-align: right;\">\n",
       "      <th></th>\n",
       "      <th>dx_class</th>\n",
       "      <th>glaucoma</th>\n",
       "      <th>patient_id</th>\n",
       "      <th>PIN</th>\n",
       "      <th>laterality</th>\n",
       "      <th>left_eye</th>\n",
       "      <th>image_type</th>\n",
       "      <th>set</th>\n",
       "      <th>filepath</th>\n",
       "    </tr>\n",
       "  </thead>\n",
       "  <tbody>\n",
       "    <tr>\n",
       "      <th>826</th>\n",
       "      <td>normal</td>\n",
       "      <td>0</td>\n",
       "      <td>000002</td>\n",
       "      <td>001</td>\n",
       "      <td>OD</td>\n",
       "      <td>0</td>\n",
       "      <td>volume</td>\n",
       "      <td>1</td>\n",
       "      <td>../datasrc/volumesOCT/Normal-000002-2009-10-28...</td>\n",
       "    </tr>\n",
       "    <tr>\n",
       "      <th>813</th>\n",
       "      <td>normal</td>\n",
       "      <td>0</td>\n",
       "      <td>000002</td>\n",
       "      <td>001</td>\n",
       "      <td>OS</td>\n",
       "      <td>1</td>\n",
       "      <td>volume</td>\n",
       "      <td>1</td>\n",
       "      <td>../datasrc/volumesOCT/Normal-000002-2009-10-28...</td>\n",
       "    </tr>\n",
       "    <tr>\n",
       "      <th>53</th>\n",
       "      <td>glaucoma</td>\n",
       "      <td>1</td>\n",
       "      <td>000008</td>\n",
       "      <td>002</td>\n",
       "      <td>OD</td>\n",
       "      <td>0</td>\n",
       "      <td>volume</td>\n",
       "      <td>1</td>\n",
       "      <td>../datasrc/volumesOCT/POAG-000008-2009-02-03-O...</td>\n",
       "    </tr>\n",
       "    <tr>\n",
       "      <th>426</th>\n",
       "      <td>glaucoma</td>\n",
       "      <td>1</td>\n",
       "      <td>000014</td>\n",
       "      <td>003</td>\n",
       "      <td>OD</td>\n",
       "      <td>0</td>\n",
       "      <td>volume</td>\n",
       "      <td>1</td>\n",
       "      <td>../datasrc/volumesOCT/POAG-000014-2009-11-30-O...</td>\n",
       "    </tr>\n",
       "    <tr>\n",
       "      <th>747</th>\n",
       "      <td>glaucoma</td>\n",
       "      <td>1</td>\n",
       "      <td>000014</td>\n",
       "      <td>003</td>\n",
       "      <td>OS</td>\n",
       "      <td>1</td>\n",
       "      <td>volume</td>\n",
       "      <td>1</td>\n",
       "      <td>../datasrc/volumesOCT/POAG-000014-2009-11-30-O...</td>\n",
       "    </tr>\n",
       "  </tbody>\n",
       "</table>\n",
       "</div>"
      ],
      "text/plain": [
       "     dx_class  glaucoma patient_id  PIN laterality  left_eye image_type  set  \\\n",
       "826    normal         0     000002  001         OD         0     volume    1   \n",
       "813    normal         0     000002  001         OS         1     volume    1   \n",
       "53   glaucoma         1     000008  002         OD         0     volume    1   \n",
       "426  glaucoma         1     000014  003         OD         0     volume    1   \n",
       "747  glaucoma         1     000014  003         OS         1     volume    1   \n",
       "\n",
       "                                              filepath  \n",
       "826  ../datasrc/volumesOCT/Normal-000002-2009-10-28...  \n",
       "813  ../datasrc/volumesOCT/Normal-000002-2009-10-28...  \n",
       "53   ../datasrc/volumesOCT/POAG-000008-2009-02-03-O...  \n",
       "426  ../datasrc/volumesOCT/POAG-000014-2009-11-30-O...  \n",
       "747  ../datasrc/volumesOCT/POAG-000014-2009-11-30-O...  "
      ]
     },
     "execution_count": 153,
     "metadata": {},
     "output_type": "execute_result"
    }
   ],
   "source": [
    "l_eye = 'left_eye'\n",
    "lat = 'laterality'\n",
    "\n",
    "if l_eye not in list(metadata.columns):\n",
    "    newcolmap[lat]=l_eye\n",
    "    leyeSer = pd.get_dummies(metadata.laterality,dtype='int',drop_first=True)\n",
    "    loc = metadata.columns.get_loc(lat) + 1\n",
    "    metadata.insert(loc,l_eye,leyeSer)\n",
    "\n",
    "print(newcolmap,'\\n')\n",
    "print(metadata.dtypes,'\\n')\n",
    "metadata.head()"
   ]
  },
  {
   "cell_type": "markdown",
   "id": "c19df879-cf1b-4525-8f0f-a1a6b726d44f",
   "metadata": {},
   "source": [
    "### Subsetting New 'modeling-ready' DataFrame"
   ]
  },
  {
   "cell_type": "code",
   "execution_count": 155,
   "id": "408dcbd2-65b7-4ce0-94f3-d882d2d1abe6",
   "metadata": {},
   "outputs": [
    {
     "data": {
      "text/plain": [
       "{'dx_class': 'glaucoma', 'patient_id': 'PIN', 'laterality': 'left_eye'}"
      ]
     },
     "execution_count": 155,
     "metadata": {},
     "output_type": "execute_result"
    }
   ],
   "source": [
    "newcolmap"
   ]
  },
  {
   "cell_type": "code",
   "execution_count": 156,
   "id": "d665062f-6184-418f-a6c4-ab8ba88e3e7d",
   "metadata": {},
   "outputs": [
    {
     "data": {
      "text/plain": [
       "['dx_class', 'patient_id', 'laterality', 'image_type', 'set', 'filepath']"
      ]
     },
     "execution_count": 156,
     "metadata": {},
     "output_type": "execute_result"
    }
   ],
   "source": [
    "oldcols"
   ]
  },
  {
   "cell_type": "code",
   "execution_count": 157,
   "id": "1482d46d-90d5-4604-b523-a5f8b6a4da86",
   "metadata": {},
   "outputs": [
    {
     "data": {
      "text/plain": [
       "['image_type', 'set', 'filepath']"
      ]
     },
     "execution_count": 157,
     "metadata": {},
     "output_type": "execute_result"
    }
   ],
   "source": [
    "untouched = [ c for c in oldcols if c not in list(newcolmap.keys()) ]; untouched"
   ]
  },
  {
   "cell_type": "code",
   "execution_count": 158,
   "id": "7b7a2204-ba43-42db-aaf3-ec9fcbb25689",
   "metadata": {},
   "outputs": [
    {
     "data": {
      "text/plain": [
       "['glaucoma', 'PIN', 'left_eye']"
      ]
     },
     "execution_count": 158,
     "metadata": {},
     "output_type": "execute_result"
    }
   ],
   "source": [
    "newcols = [ newcolmap[c] for c in oldcols if c not in untouched ]; newcols"
   ]
  },
  {
   "cell_type": "code",
   "execution_count": 160,
   "id": "6b91453d-2d60-4ea1-a0ac-9306857366c5",
   "metadata": {},
   "outputs": [
    {
     "data": {
      "text/html": [
       "<div>\n",
       "<style scoped>\n",
       "    .dataframe tbody tr th:only-of-type {\n",
       "        vertical-align: middle;\n",
       "    }\n",
       "\n",
       "    .dataframe tbody tr th {\n",
       "        vertical-align: top;\n",
       "    }\n",
       "\n",
       "    .dataframe thead th {\n",
       "        text-align: right;\n",
       "    }\n",
       "</style>\n",
       "<table border=\"1\" class=\"dataframe\">\n",
       "  <thead>\n",
       "    <tr style=\"text-align: right;\">\n",
       "      <th></th>\n",
       "      <th>glaucoma</th>\n",
       "      <th>PIN</th>\n",
       "      <th>left_eye</th>\n",
       "      <th>set</th>\n",
       "      <th>image_type</th>\n",
       "      <th>filepath</th>\n",
       "    </tr>\n",
       "  </thead>\n",
       "  <tbody>\n",
       "    <tr>\n",
       "      <th>0</th>\n",
       "      <td>0</td>\n",
       "      <td>001</td>\n",
       "      <td>0</td>\n",
       "      <td>1</td>\n",
       "      <td>volume</td>\n",
       "      <td>../datasrc/volumesOCT/Normal-000002-2009-10-28...</td>\n",
       "    </tr>\n",
       "    <tr>\n",
       "      <th>1</th>\n",
       "      <td>0</td>\n",
       "      <td>001</td>\n",
       "      <td>1</td>\n",
       "      <td>1</td>\n",
       "      <td>volume</td>\n",
       "      <td>../datasrc/volumesOCT/Normal-000002-2009-10-28...</td>\n",
       "    </tr>\n",
       "    <tr>\n",
       "      <th>2</th>\n",
       "      <td>1</td>\n",
       "      <td>002</td>\n",
       "      <td>0</td>\n",
       "      <td>1</td>\n",
       "      <td>volume</td>\n",
       "      <td>../datasrc/volumesOCT/POAG-000008-2009-02-03-O...</td>\n",
       "    </tr>\n",
       "    <tr>\n",
       "      <th>3</th>\n",
       "      <td>1</td>\n",
       "      <td>003</td>\n",
       "      <td>0</td>\n",
       "      <td>1</td>\n",
       "      <td>volume</td>\n",
       "      <td>../datasrc/volumesOCT/POAG-000014-2009-11-30-O...</td>\n",
       "    </tr>\n",
       "    <tr>\n",
       "      <th>4</th>\n",
       "      <td>1</td>\n",
       "      <td>003</td>\n",
       "      <td>1</td>\n",
       "      <td>1</td>\n",
       "      <td>volume</td>\n",
       "      <td>../datasrc/volumesOCT/POAG-000014-2009-11-30-O...</td>\n",
       "    </tr>\n",
       "  </tbody>\n",
       "</table>\n",
       "</div>"
      ],
      "text/plain": [
       "   glaucoma  PIN  left_eye  set image_type  \\\n",
       "0         0  001         0    1     volume   \n",
       "1         0  001         1    1     volume   \n",
       "2         1  002         0    1     volume   \n",
       "3         1  003         0    1     volume   \n",
       "4         1  003         1    1     volume   \n",
       "\n",
       "                                            filepath  \n",
       "0  ../datasrc/volumesOCT/Normal-000002-2009-10-28...  \n",
       "1  ../datasrc/volumesOCT/Normal-000002-2009-10-28...  \n",
       "2  ../datasrc/volumesOCT/POAG-000008-2009-02-03-O...  \n",
       "3  ../datasrc/volumesOCT/POAG-000014-2009-11-30-O...  \n",
       "4  ../datasrc/volumesOCT/POAG-000014-2009-11-30-O...  "
      ]
     },
     "execution_count": 160,
     "metadata": {},
     "output_type": "execute_result"
    }
   ],
   "source": [
    "# Subset columns for \"modeling dataframe\" (mdf):\n",
    "mdf = metadata[newcols+untouched]\n",
    "\n",
    "# Reset index values\n",
    "mdf = mdf.reset_index().drop('index',axis=1)\n",
    "\n",
    "# Reorder columns so that `set` is lumped in with the other numerical columns\n",
    "loc = mdf.columns.get_loc('image_type')\n",
    "setSer = mdf.pop('set')\n",
    "mdf.insert(loc,'set',setSer)\n",
    "\n",
    "# Preview\n",
    "mdf.head()"
   ]
  },
  {
   "cell_type": "markdown",
   "id": "aae3052f-4eef-4849-be12-9a67a30b1997",
   "metadata": {},
   "source": [
    "Will leave `image_type` and `filepath` alone for now, as they are subject to changes in subsequent sections of this notebook. "
   ]
  },
  {
   "cell_type": "markdown",
   "id": "a0dc188f-9228-485c-8acd-5878cfa4c212",
   "metadata": {},
   "source": [
    "## Volume/Image Array Standardization "
   ]
  },
  {
   "cell_type": "markdown",
   "id": "abbcb6e6-2941-4feb-a4c2-7936678203e6",
   "metadata": {},
   "source": [
    "### Array Dimensions"
   ]
  },
  {
   "cell_type": "code",
   "execution_count": null,
   "id": "161caaeb-c379-4706-b7f4-91fadc0e5f4b",
   "metadata": {},
   "outputs": [],
   "source": []
  },
  {
   "cell_type": "code",
   "execution_count": null,
   "id": "5a5944e5-c2d2-4152-9986-a57ebd8b621f",
   "metadata": {},
   "outputs": [],
   "source": []
  },
  {
   "cell_type": "markdown",
   "id": "499e38fa-9617-4182-b8cc-d413338bbea5",
   "metadata": {},
   "source": [
    "### Aspect Ratio "
   ]
  },
  {
   "cell_type": "code",
   "execution_count": null,
   "id": "7ec99082-2bb7-442b-91b8-0e2e4b5d7b1b",
   "metadata": {},
   "outputs": [],
   "source": []
  },
  {
   "cell_type": "code",
   "execution_count": null,
   "id": "8b84d169-7a32-49ad-a5c1-8ace41e556ad",
   "metadata": {},
   "outputs": [],
   "source": []
  },
  {
   "cell_type": "markdown",
   "id": "a0de822a-700d-44e9-8b91-6edf333ec0b8",
   "metadata": {},
   "source": [
    "### Size/Scale"
   ]
  },
  {
   "cell_type": "code",
   "execution_count": null,
   "id": "5a93e6f5-58ad-4064-9984-c876ad9e4600",
   "metadata": {},
   "outputs": [],
   "source": []
  },
  {
   "cell_type": "code",
   "execution_count": null,
   "id": "9949dfd4-32ca-4b0e-8cb7-f6e698b0dd90",
   "metadata": {},
   "outputs": [],
   "source": []
  },
  {
   "cell_type": "markdown",
   "id": "7decb83b-00b3-4d9e-82dd-da62ef68bc80",
   "metadata": {},
   "source": [
    "### Color Channels "
   ]
  },
  {
   "cell_type": "code",
   "execution_count": null,
   "id": "2a30f5aa-fb63-47f8-8e16-1bacf46e0ff2",
   "metadata": {},
   "outputs": [],
   "source": []
  },
  {
   "cell_type": "code",
   "execution_count": null,
   "id": "df1c9153-f561-49dd-8f13-b5b33f78b037",
   "metadata": {},
   "outputs": [],
   "source": []
  },
  {
   "cell_type": "markdown",
   "id": "38095968-9837-452d-a0ce-8f7afa38fb37",
   "metadata": {},
   "source": [
    "### Pixel Intensities "
   ]
  },
  {
   "cell_type": "code",
   "execution_count": null,
   "id": "3ad37a42-5785-419b-a5b5-489a4696542d",
   "metadata": {},
   "outputs": [],
   "source": []
  },
  {
   "cell_type": "code",
   "execution_count": null,
   "id": "72c9e274-059b-48a5-93ea-d7c3d3989120",
   "metadata": {},
   "outputs": [],
   "source": []
  },
  {
   "cell_type": "markdown",
   "id": "86c77568-2e76-46c8-820f-7056d6930f4d",
   "metadata": {},
   "source": [
    "## Summary "
   ]
  },
  {
   "cell_type": "markdown",
   "id": "44a5de3d-3f84-455d-96a8-08098acc1e5f",
   "metadata": {},
   "source": []
  }
 ],
 "metadata": {
  "kernelspec": {
   "display_name": "Python 3 (ipykernel)",
   "language": "python",
   "name": "python3"
  },
  "language_info": {
   "codemirror_mode": {
    "name": "ipython",
    "version": 3
   },
   "file_extension": ".py",
   "mimetype": "text/x-python",
   "name": "python",
   "nbconvert_exporter": "python",
   "pygments_lexer": "ipython3",
   "version": "3.12.11"
  }
 },
 "nbformat": 4,
 "nbformat_minor": 5
}
