{
 "cells": [
  {
   "cell_type": "code",
   "execution_count": null,
   "id": "c293cf90-b6cd-4093-abe9-283a82a3e78a",
   "metadata": {},
   "outputs": [],
   "source": [
    "gnames = [f for f in os.listdir(crpath) if 'gray' in f.lower() and f.endswith('jpg')]\n",
    "gpths = [ os.path.join(crpath,gn) for gn in gnames ] \n",
    "grays = [cv2.cvtColor(cv2.imread(g),cv2.COLOR_BGR2GRAY) for g in gpths]\n",
    "\n",
    "for i,g in enumerate(grays):\n",
    "    h, w = g.shape[:2]\n",
    "    scale = 64 / min(h, w)\n",
    "    resized = cv2.resize(g, (int(w * scale), int(h * scale)))\n",
    "    fn = gnames[i]\n",
    "    fn = fn.split('.jpg')[0]+'-DOWNSCALED.jpg'\n",
    "    oPATH = os.path.join(crpath,fn)\n",
    "    cv2.imwrite(oPATH,g)"
   ]
  }
 ],
 "metadata": {
  "kernelspec": {
   "display_name": "Python 3 (ipykernel)",
   "language": "python",
   "name": "python3"
  },
  "language_info": {
   "codemirror_mode": {
    "name": "ipython",
    "version": 3
   },
   "file_extension": ".py",
   "mimetype": "text/x-python",
   "name": "python",
   "nbconvert_exporter": "python",
   "pygments_lexer": "ipython3",
   "version": "3.12.11"
  }
 },
 "nbformat": 4,
 "nbformat_minor": 5
}
