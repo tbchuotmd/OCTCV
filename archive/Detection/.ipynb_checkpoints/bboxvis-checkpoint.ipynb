{
 "cells": [
  {
   "cell_type": "code",
   "execution_count": 28,
   "id": "55a90952-fb2d-429f-99bb-125e69c36a10",
   "metadata": {},
   "outputs": [],
   "source": [
    "import pandas as pd\n",
    "import os, cv2, numpy as np"
   ]
  },
  {
   "cell_type": "code",
   "execution_count": 29,
   "id": "13a76c62-57d7-47d8-aad0-aabad91a398c",
   "metadata": {},
   "outputs": [
    {
     "data": {
      "text/html": [
       "<div>\n",
       "<style scoped>\n",
       "    .dataframe tbody tr th:only-of-type {\n",
       "        vertical-align: middle;\n",
       "    }\n",
       "\n",
       "    .dataframe tbody tr th {\n",
       "        vertical-align: top;\n",
       "    }\n",
       "\n",
       "    .dataframe thead th {\n",
       "        text-align: right;\n",
       "    }\n",
       "</style>\n",
       "<table border=\"1\" class=\"dataframe\">\n",
       "  <thead>\n",
       "    <tr style=\"text-align: right;\">\n",
       "      <th></th>\n",
       "      <th>Unnamed: 0</th>\n",
       "      <th>image</th>\n",
       "      <th>xmin</th>\n",
       "      <th>ymin</th>\n",
       "      <th>xmax</th>\n",
       "      <th>ymax</th>\n",
       "      <th>class</th>\n",
       "    </tr>\n",
       "  </thead>\n",
       "  <tbody>\n",
       "    <tr>\n",
       "      <th>0</th>\n",
       "      <td>0</td>\n",
       "      <td>AMD Part1/AMD (3)/Image (14).png</td>\n",
       "      <td>456</td>\n",
       "      <td>257</td>\n",
       "      <td>511</td>\n",
       "      <td>280</td>\n",
       "      <td>PRlayerdisruption</td>\n",
       "    </tr>\n",
       "    <tr>\n",
       "      <th>1</th>\n",
       "      <td>1</td>\n",
       "      <td>AMD Part1/AMD (3)/Image (14).png</td>\n",
       "      <td>308</td>\n",
       "      <td>297</td>\n",
       "      <td>340</td>\n",
       "      <td>309</td>\n",
       "      <td>Harddrusen</td>\n",
       "    </tr>\n",
       "    <tr>\n",
       "      <th>2</th>\n",
       "      <td>2</td>\n",
       "      <td>AMD Part1/AMD (3)/Image (16).png</td>\n",
       "      <td>341</td>\n",
       "      <td>291</td>\n",
       "      <td>351</td>\n",
       "      <td>306</td>\n",
       "      <td>Harddrusen</td>\n",
       "    </tr>\n",
       "    <tr>\n",
       "      <th>3</th>\n",
       "      <td>3</td>\n",
       "      <td>AMD Part1/AMD (3)/Image (16).png</td>\n",
       "      <td>256</td>\n",
       "      <td>302</td>\n",
       "      <td>281</td>\n",
       "      <td>316</td>\n",
       "      <td>Harddrusen</td>\n",
       "    </tr>\n",
       "    <tr>\n",
       "      <th>4</th>\n",
       "      <td>4</td>\n",
       "      <td>AMD Part1/AMD (3)/Image (16).png</td>\n",
       "      <td>210</td>\n",
       "      <td>307</td>\n",
       "      <td>230</td>\n",
       "      <td>321</td>\n",
       "      <td>Harddrusen</td>\n",
       "    </tr>\n",
       "    <tr>\n",
       "      <th>...</th>\n",
       "      <td>...</td>\n",
       "      <td>...</td>\n",
       "      <td>...</td>\n",
       "      <td>...</td>\n",
       "      <td>...</td>\n",
       "      <td>...</td>\n",
       "      <td>...</td>\n",
       "    </tr>\n",
       "    <tr>\n",
       "      <th>4693</th>\n",
       "      <td>4693</td>\n",
       "      <td>DRUSEN/DRUSEN-9894035-36.png</td>\n",
       "      <td>299</td>\n",
       "      <td>213</td>\n",
       "      <td>333</td>\n",
       "      <td>245</td>\n",
       "      <td>Softdrusen</td>\n",
       "    </tr>\n",
       "    <tr>\n",
       "      <th>4694</th>\n",
       "      <td>4694</td>\n",
       "      <td>DRUSEN/DRUSEN-9894035-36.png</td>\n",
       "      <td>332</td>\n",
       "      <td>211</td>\n",
       "      <td>362</td>\n",
       "      <td>243</td>\n",
       "      <td>Softdrusen</td>\n",
       "    </tr>\n",
       "    <tr>\n",
       "      <th>4695</th>\n",
       "      <td>4695</td>\n",
       "      <td>DRUSEN/DRUSEN-9894035-36.png</td>\n",
       "      <td>364</td>\n",
       "      <td>215</td>\n",
       "      <td>388</td>\n",
       "      <td>239</td>\n",
       "      <td>Softdrusen</td>\n",
       "    </tr>\n",
       "    <tr>\n",
       "      <th>4696</th>\n",
       "      <td>4696</td>\n",
       "      <td>DRUSEN/DRUSEN-9928043-3.png</td>\n",
       "      <td>405</td>\n",
       "      <td>301</td>\n",
       "      <td>434</td>\n",
       "      <td>323</td>\n",
       "      <td>Softdrusen</td>\n",
       "    </tr>\n",
       "    <tr>\n",
       "      <th>4697</th>\n",
       "      <td>4697</td>\n",
       "      <td>DRUSEN/DRUSEN-9928043-3.png</td>\n",
       "      <td>116</td>\n",
       "      <td>290</td>\n",
       "      <td>131</td>\n",
       "      <td>303</td>\n",
       "      <td>Reticulardrusen</td>\n",
       "    </tr>\n",
       "  </tbody>\n",
       "</table>\n",
       "<p>4698 rows × 7 columns</p>\n",
       "</div>"
      ],
      "text/plain": [
       "      Unnamed: 0                             image  xmin  ymin  xmax  ymax  \\\n",
       "0              0  AMD Part1/AMD (3)/Image (14).png   456   257   511   280   \n",
       "1              1  AMD Part1/AMD (3)/Image (14).png   308   297   340   309   \n",
       "2              2  AMD Part1/AMD (3)/Image (16).png   341   291   351   306   \n",
       "3              3  AMD Part1/AMD (3)/Image (16).png   256   302   281   316   \n",
       "4              4  AMD Part1/AMD (3)/Image (16).png   210   307   230   321   \n",
       "...          ...                               ...   ...   ...   ...   ...   \n",
       "4693        4693      DRUSEN/DRUSEN-9894035-36.png   299   213   333   245   \n",
       "4694        4694      DRUSEN/DRUSEN-9894035-36.png   332   211   362   243   \n",
       "4695        4695      DRUSEN/DRUSEN-9894035-36.png   364   215   388   239   \n",
       "4696        4696       DRUSEN/DRUSEN-9928043-3.png   405   301   434   323   \n",
       "4697        4697       DRUSEN/DRUSEN-9928043-3.png   116   290   131   303   \n",
       "\n",
       "                  class  \n",
       "0     PRlayerdisruption  \n",
       "1            Harddrusen  \n",
       "2            Harddrusen  \n",
       "3            Harddrusen  \n",
       "4            Harddrusen  \n",
       "...                 ...  \n",
       "4693         Softdrusen  \n",
       "4694         Softdrusen  \n",
       "4695         Softdrusen  \n",
       "4696         Softdrusen  \n",
       "4697    Reticulardrusen  \n",
       "\n",
       "[4698 rows x 7 columns]"
      ]
     },
     "execution_count": 29,
     "metadata": {},
     "output_type": "execute_result"
    }
   ],
   "source": [
    "allbb=pd.read_csv('all_bounding_boxes.csv')\n",
    "allbb"
   ]
  },
  {
   "cell_type": "code",
   "execution_count": 30,
   "id": "f059c6ce-7b5e-49fe-892e-dbf830e9584b",
   "metadata": {},
   "outputs": [
    {
     "data": {
      "text/html": [
       "<div>\n",
       "<style scoped>\n",
       "    .dataframe tbody tr th:only-of-type {\n",
       "        vertical-align: middle;\n",
       "    }\n",
       "\n",
       "    .dataframe tbody tr th {\n",
       "        vertical-align: top;\n",
       "    }\n",
       "\n",
       "    .dataframe thead th {\n",
       "        text-align: right;\n",
       "    }\n",
       "</style>\n",
       "<table border=\"1\" class=\"dataframe\">\n",
       "  <thead>\n",
       "    <tr style=\"text-align: right;\">\n",
       "      <th></th>\n",
       "      <th>Unnamed: 0</th>\n",
       "      <th>image</th>\n",
       "      <th>xmin</th>\n",
       "      <th>ymin</th>\n",
       "      <th>xmax</th>\n",
       "      <th>ymax</th>\n",
       "      <th>class</th>\n",
       "    </tr>\n",
       "  </thead>\n",
       "  <tbody>\n",
       "    <tr>\n",
       "      <th>0</th>\n",
       "      <td>0</td>\n",
       "      <td>AMD Part1/AMD (3)/Image (14).png</td>\n",
       "      <td>456</td>\n",
       "      <td>257</td>\n",
       "      <td>511</td>\n",
       "      <td>280</td>\n",
       "      <td>PRlayerdisruption</td>\n",
       "    </tr>\n",
       "  </tbody>\n",
       "</table>\n",
       "</div>"
      ],
      "text/plain": [
       "   Unnamed: 0                             image  xmin  ymin  xmax  ymax  \\\n",
       "0           0  AMD Part1/AMD (3)/Image (14).png   456   257   511   280   \n",
       "\n",
       "               class  \n",
       "0  PRlayerdisruption  "
      ]
     },
     "execution_count": 30,
     "metadata": {},
     "output_type": "execute_result"
    }
   ],
   "source": [
    "allbb.head(1)"
   ]
  },
  {
   "cell_type": "code",
   "execution_count": 31,
   "id": "d207b435-1434-409f-82ec-f4dd5e347aa3",
   "metadata": {},
   "outputs": [
    {
     "data": {
      "text/plain": [
       "['Images',\n",
       " 'all_bounding_boxes.csv',\n",
       " '.ipynb_checkpoints',\n",
       " 'all_classes.csv',\n",
       " 'bboxvis.ipynb',\n",
       " 'bbox_vis.ipynb']"
      ]
     },
     "execution_count": 31,
     "metadata": {},
     "output_type": "execute_result"
    }
   ],
   "source": [
    "os.listdir('.')"
   ]
  },
  {
   "cell_type": "code",
   "execution_count": 32,
   "id": "014a86a6-c4e4-4e26-8079-c8ce38e50315",
   "metadata": {},
   "outputs": [],
   "source": [
    "imgrelpth = list(allbb['image'])[0]"
   ]
  },
  {
   "cell_type": "code",
   "execution_count": 56,
   "id": "3806dccf-28d1-4561-afba-6a2695e09c1c",
   "metadata": {},
   "outputs": [
    {
     "data": {
      "text/plain": [
       "True"
      ]
     },
     "execution_count": 56,
     "metadata": {},
     "output_type": "execute_result"
    }
   ],
   "source": [
    "allbb.loc[0, 'image'] == list(allbb['image'])[0]"
   ]
  },
  {
   "cell_type": "code",
   "execution_count": 33,
   "id": "c83e4047-57d1-4418-838e-dfb57314b04a",
   "metadata": {},
   "outputs": [
    {
     "name": "stdout",
     "output_type": "stream",
     "text": [
      "Images/AMD Part1/AMD (3)/Image (14).png\n"
     ]
    }
   ],
   "source": [
    "imgpath = os.path.join('Images',imgrelpth)\n",
    "print(imgpath)"
   ]
  },
  {
   "cell_type": "code",
   "execution_count": 34,
   "id": "62fc3b44-7b98-4ca9-bc2f-a2618118d380",
   "metadata": {},
   "outputs": [],
   "source": [
    "img = cv2.imread(imgpath)"
   ]
  },
  {
   "cell_type": "code",
   "execution_count": 35,
   "id": "203360ab-c91f-4a8d-9caa-a64150c96566",
   "metadata": {},
   "outputs": [
    {
     "data": {
      "text/plain": [
       "(512, 512, 3)"
      ]
     },
     "execution_count": 35,
     "metadata": {},
     "output_type": "execute_result"
    }
   ],
   "source": [
    "img.shape"
   ]
  },
  {
   "cell_type": "code",
   "execution_count": 36,
   "id": "857af054-65b5-4732-8559-2872b8fc658c",
   "metadata": {},
   "outputs": [
    {
     "name": "stdout",
     "output_type": "stream",
     "text": [
      "456 257 511 280\n"
     ]
    }
   ],
   "source": [
    "xmin=list(allbb['xmin'])[0]\n",
    "ymin=list(allbb['ymin'])[0]\n",
    "xmax=list(allbb['xmax'])[0]\n",
    "ymax=list(allbb['ymax'])[0]\n",
    "\n",
    "print(xmin,ymin,xmax,ymax)"
   ]
  },
  {
   "cell_type": "code",
   "execution_count": 37,
   "id": "e1d015df-68ef-4bda-971b-032ac59a046e",
   "metadata": {
    "scrolled": true
   },
   "outputs": [
    {
     "data": {
      "text/plain": [
       "array([[[30, 30, 30],\n",
       "        [30, 30, 30],\n",
       "        [30, 30, 30],\n",
       "        ...,\n",
       "        [28, 28, 28],\n",
       "        [28, 28, 28],\n",
       "        [28, 28, 28]],\n",
       "\n",
       "       [[30, 30, 30],\n",
       "        [30, 30, 30],\n",
       "        [30, 30, 30],\n",
       "        ...,\n",
       "        [28, 28, 28],\n",
       "        [28, 28, 28],\n",
       "        [28, 28, 28]],\n",
       "\n",
       "       [[30, 30, 30],\n",
       "        [30, 30, 30],\n",
       "        [30, 30, 30],\n",
       "        ...,\n",
       "        [28, 28, 28],\n",
       "        [28, 28, 28],\n",
       "        [28, 28, 28]],\n",
       "\n",
       "       ...,\n",
       "\n",
       "       [[ 9,  9,  9],\n",
       "        [ 9,  9,  9],\n",
       "        [ 9,  9,  9],\n",
       "        ...,\n",
       "        [12, 12, 12],\n",
       "        [10, 10, 10],\n",
       "        [11, 11, 11]],\n",
       "\n",
       "       [[ 0,  0,  0],\n",
       "        [ 0,  0,  0],\n",
       "        [ 5,  5,  5],\n",
       "        ...,\n",
       "        [10, 10, 10],\n",
       "        [12, 12, 12],\n",
       "        [11, 11, 11]],\n",
       "\n",
       "       [[ 0,  0,  0],\n",
       "        [ 0,  0,  0],\n",
       "        [ 0,  0,  0],\n",
       "        ...,\n",
       "        [ 4,  4,  4],\n",
       "        [11, 11, 11],\n",
       "        [ 9,  9,  9]]], dtype=uint8)"
      ]
     },
     "execution_count": 37,
     "metadata": {},
     "output_type": "execute_result"
    }
   ],
   "source": [
    "bbx_color = (0,128,0)\n",
    "border_thickness = 1\n",
    "cv2.rectangle(img, (xmin,ymin),(xmax,ymax),bbx_color,border_thickness)"
   ]
  },
  {
   "cell_type": "code",
   "execution_count": 38,
   "id": "e27add61-0a4d-420f-813f-a99b42c9dc12",
   "metadata": {},
   "outputs": [],
   "source": [
    "imgname=os.path.basename(imgpath)"
   ]
  },
  {
   "cell_type": "code",
   "execution_count": 39,
   "id": "7ad9c45a-9f36-4263-89f6-113b6d141fc6",
   "metadata": {},
   "outputs": [],
   "source": [
    "pardir=os.path.dirname(imgpath)"
   ]
  },
  {
   "cell_type": "code",
   "execution_count": 40,
   "id": "2dca0f25-e240-4ca4-9b72-baa94053d83c",
   "metadata": {},
   "outputs": [
    {
     "name": "stdout",
     "output_type": "stream",
     "text": [
      "Images/AMD Part1/AMD (3)/Image (14)_bbox.png\n"
     ]
    }
   ],
   "source": [
    "imgnamebase = os.path.splitext(imgname)[0]\n",
    "imgext = os.path.splitext(imgname)[1]\n",
    "outname = ''.join([imgnamebase,'_bbox',imgext])\n",
    "outpath = os.path.join(pardir,outname)\n",
    "print(outpath)"
   ]
  },
  {
   "cell_type": "code",
   "execution_count": 41,
   "id": "170f6582-5f60-4b7e-a2a0-e061dc888dc5",
   "metadata": {},
   "outputs": [
    {
     "data": {
      "text/plain": [
       "True"
      ]
     },
     "execution_count": 41,
     "metadata": {},
     "output_type": "execute_result"
    }
   ],
   "source": [
    "cv2.imwrite(outpath,img)"
   ]
  },
  {
   "cell_type": "code",
   "execution_count": 51,
   "id": "e6132b1c-8c79-4ebe-acd2-f06828121bc3",
   "metadata": {},
   "outputs": [],
   "source": [
    "def drawbb(dfindex):\n",
    "    allbb=pd.read_csv('all_bounding_boxes.csv')\n",
    "    imgrelpth = allbb.loc[dfindex, 'image']\n",
    "    imgpath = os.path.join('Images',imgrelpth)\n",
    "    img = cv2.imread(imgpath)\n",
    "    \n",
    "    xmin=list(allbb['xmin'])[dfindex]\n",
    "    ymin=list(allbb['ymin'])[dfindex]\n",
    "    xmax=list(allbb['xmax'])[dfindex]\n",
    "    ymax=list(allbb['ymax'])[dfindex]\n",
    "\n",
    "    color = (0,200,0)\n",
    "    thickness = 1\n",
    "    cv2.rectangle(img, (xmin,ymin),(xmax,ymax),color,thickness)\n",
    "    \n",
    "    imgname=os.path.basename(imgpath)\n",
    "    pardir=os.path.dirname(imgpath)\n",
    "    imgnamebase = os.path.splitext(imgname)[0]\n",
    "    imgext = os.path.splitext(imgname)[1]\n",
    "    outname = ''.join([imgnamebase,'_bbox',imgext])\n",
    "    outpath = os.path.join(pardir,outname)\n",
    "    cv2.imwrite(outpath,img)\n",
    "\n",
    "    print(f\"Bounding box applied to {imgpath}, new image saved to {outpath}.\")\n",
    "    "
   ]
  },
  {
   "cell_type": "code",
   "execution_count": 52,
   "id": "28d430e4-e4af-44cb-9954-3f7ed67d9237",
   "metadata": {},
   "outputs": [
    {
     "name": "stdout",
     "output_type": "stream",
     "text": [
      "Bounding box applied to Images/AMD Part1/AMD (3)/Image (14).png, new image saved to Images/AMD Part1/AMD (3)/Image (14)_bbox.png.\n",
      "Bounding box applied to Images/AMD Part1/AMD (3)/Image (16).png, new image saved to Images/AMD Part1/AMD (3)/Image (16)_bbox.png.\n",
      "Bounding box applied to Images/AMD Part1/AMD (3)/Image (16).png, new image saved to Images/AMD Part1/AMD (3)/Image (16)_bbox.png.\n",
      "Bounding box applied to Images/AMD Part1/AMD (3)/Image (16).png, new image saved to Images/AMD Part1/AMD (3)/Image (16)_bbox.png.\n",
      "Bounding box applied to Images/AMD Part1/AMD (3)/Image (16).png, new image saved to Images/AMD Part1/AMD (3)/Image (16)_bbox.png.\n",
      "Bounding box applied to Images/AMD Part1/AMD (3)/Image (16).png, new image saved to Images/AMD Part1/AMD (3)/Image (16)_bbox.png.\n",
      "Bounding box applied to Images/AMD Part1/AMD (3)/Image (18).png, new image saved to Images/AMD Part1/AMD (3)/Image (18)_bbox.png.\n",
      "Bounding box applied to Images/AMD Part1/AMD (3)/Image (18).png, new image saved to Images/AMD Part1/AMD (3)/Image (18)_bbox.png.\n",
      "Bounding box applied to Images/AMD Part1/AMD (3)/Image (18).png, new image saved to Images/AMD Part1/AMD (3)/Image (18)_bbox.png.\n"
     ]
    }
   ],
   "source": [
    "for i in range(1,10):\n",
    "    drawbb(i)"
   ]
  },
  {
   "cell_type": "code",
   "execution_count": 54,
   "id": "b0c277f5-e6b2-451a-863a-5de084ad7f42",
   "metadata": {},
   "outputs": [
    {
     "name": "stdout",
     "output_type": "stream",
     "text": [
      "<pandas.core.groupby.generic.DataFrameGroupBy object at 0x784bb3fd38c0>\n"
     ]
    }
   ],
   "source": [
    "print(allbb.groupby('image'))"
   ]
  },
  {
   "cell_type": "code",
   "execution_count": 60,
   "id": "6126c61e-f2e8-4367-b8d5-0b259838ff71",
   "metadata": {},
   "outputs": [],
   "source": [
    "def drawallbb(dfindex):\n",
    "    allbb=pd.read_csv('all_bounding_boxes.csv')\n",
    "    imgrelpth = allbb.loc[dfindex, 'image']\n",
    "    imgpath = os.path.join('Images',imgrelpth)\n",
    "    img = cv2.imread(imgpath)\n",
    "\n",
    "    img_bboxes =  allbb[allbb['image'] == imgrelpth]\n",
    "    \n",
    "    color = (0,200,0)\n",
    "    thickness = 1\n",
    "    \n",
    "    for _, row in img_bboxes.iterrows():\n",
    "        xmin, ymin, xmax, ymax = int(row['xmin']), int(row['ymin']), int(row['xmax']), int(row['ymax'])\n",
    "        cv2.rectangle(img, (xmin, ymin), (xmax, ymax), color, thickness)\n",
    "    \n",
    "    imgname=os.path.basename(imgpath)\n",
    "    pardir=os.path.dirname(imgpath)\n",
    "    imgnamebase = os.path.splitext(imgname)[0]\n",
    "    imgext = os.path.splitext(imgname)[1]\n",
    "    outname = f\"{imgnamebase}_bbox{imgext}\"\n",
    "    outpath = os.path.join(pardir,outname)\n",
    "    \n",
    "    cv2.imwrite(outpath,img)\n",
    "\n",
    "    print(f\"{len(img_bboxes)} bounding box(s) applied to {imgpath}, new image saved to {outpath}.\")"
   ]
  },
  {
   "cell_type": "code",
   "execution_count": 61,
   "id": "08137bb9-e43c-4e4b-9f77-f08216bfdf24",
   "metadata": {},
   "outputs": [
    {
     "name": "stdout",
     "output_type": "stream",
     "text": [
      "2 bounding box(s) applied to Images/AMD Part1/AMD (3)/Image (14).png, new image saved to Images/AMD Part1/AMD (3)/Image (14)_bbox.png.\n"
     ]
    }
   ],
   "source": [
    "drawallbb(0)"
   ]
  },
  {
   "cell_type": "code",
   "execution_count": 62,
   "id": "c06ca541-0b2d-4741-94a4-99fa8a03aa9c",
   "metadata": {},
   "outputs": [
    {
     "name": "stdout",
     "output_type": "stream",
     "text": [
      "2 bounding box(s) applied to Images/AMD Part1/AMD (3)/Image (14).png, new image saved to Images/AMD Part1/AMD (3)/Image (14)_bbox.png.\n",
      "2 bounding box(s) applied to Images/AMD Part1/AMD (3)/Image (14).png, new image saved to Images/AMD Part1/AMD (3)/Image (14)_bbox.png.\n",
      "5 bounding box(s) applied to Images/AMD Part1/AMD (3)/Image (16).png, new image saved to Images/AMD Part1/AMD (3)/Image (16)_bbox.png.\n",
      "5 bounding box(s) applied to Images/AMD Part1/AMD (3)/Image (16).png, new image saved to Images/AMD Part1/AMD (3)/Image (16)_bbox.png.\n",
      "5 bounding box(s) applied to Images/AMD Part1/AMD (3)/Image (16).png, new image saved to Images/AMD Part1/AMD (3)/Image (16)_bbox.png.\n",
      "5 bounding box(s) applied to Images/AMD Part1/AMD (3)/Image (16).png, new image saved to Images/AMD Part1/AMD (3)/Image (16)_bbox.png.\n",
      "5 bounding box(s) applied to Images/AMD Part1/AMD (3)/Image (16).png, new image saved to Images/AMD Part1/AMD (3)/Image (16)_bbox.png.\n",
      "3 bounding box(s) applied to Images/AMD Part1/AMD (3)/Image (18).png, new image saved to Images/AMD Part1/AMD (3)/Image (18)_bbox.png.\n",
      "3 bounding box(s) applied to Images/AMD Part1/AMD (3)/Image (18).png, new image saved to Images/AMD Part1/AMD (3)/Image (18)_bbox.png.\n",
      "3 bounding box(s) applied to Images/AMD Part1/AMD (3)/Image (18).png, new image saved to Images/AMD Part1/AMD (3)/Image (18)_bbox.png.\n",
      "4 bounding box(s) applied to Images/AMD Part1/AMD (3)/Image (20).png, new image saved to Images/AMD Part1/AMD (3)/Image (20)_bbox.png.\n",
      "4 bounding box(s) applied to Images/AMD Part1/AMD (3)/Image (20).png, new image saved to Images/AMD Part1/AMD (3)/Image (20)_bbox.png.\n",
      "4 bounding box(s) applied to Images/AMD Part1/AMD (3)/Image (20).png, new image saved to Images/AMD Part1/AMD (3)/Image (20)_bbox.png.\n",
      "4 bounding box(s) applied to Images/AMD Part1/AMD (3)/Image (20).png, new image saved to Images/AMD Part1/AMD (3)/Image (20)_bbox.png.\n",
      "6 bounding box(s) applied to Images/AMD Part1/AMD (3)/Image (21).png, new image saved to Images/AMD Part1/AMD (3)/Image (21)_bbox.png.\n",
      "6 bounding box(s) applied to Images/AMD Part1/AMD (3)/Image (21).png, new image saved to Images/AMD Part1/AMD (3)/Image (21)_bbox.png.\n",
      "6 bounding box(s) applied to Images/AMD Part1/AMD (3)/Image (21).png, new image saved to Images/AMD Part1/AMD (3)/Image (21)_bbox.png.\n",
      "6 bounding box(s) applied to Images/AMD Part1/AMD (3)/Image (21).png, new image saved to Images/AMD Part1/AMD (3)/Image (21)_bbox.png.\n",
      "6 bounding box(s) applied to Images/AMD Part1/AMD (3)/Image (21).png, new image saved to Images/AMD Part1/AMD (3)/Image (21)_bbox.png.\n",
      "6 bounding box(s) applied to Images/AMD Part1/AMD (3)/Image (21).png, new image saved to Images/AMD Part1/AMD (3)/Image (21)_bbox.png.\n"
     ]
    }
   ],
   "source": [
    "for i in range(0,20):\n",
    "    drawallbb(i)"
   ]
  },
  {
   "cell_type": "code",
   "execution_count": 64,
   "id": "142a91c0-8f9c-424a-a489-14686526f3be",
   "metadata": {},
   "outputs": [],
   "source": [
    "from PIL import Image\n",
    "image = Image.open('Images/AMD Part1/AMD (3)/Image (14)_bbox.png')\n",
    "image.show()"
   ]
  }
 ],
 "metadata": {
  "kernelspec": {
   "display_name": "Python 3 (ipykernel)",
   "language": "python",
   "name": "python3"
  },
  "language_info": {
   "codemirror_mode": {
    "name": "ipython",
    "version": 3
   },
   "file_extension": ".py",
   "mimetype": "text/x-python",
   "name": "python",
   "nbconvert_exporter": "python",
   "pygments_lexer": "ipython3",
   "version": "3.12.7"
  }
 },
 "nbformat": 4,
 "nbformat_minor": 5
}
